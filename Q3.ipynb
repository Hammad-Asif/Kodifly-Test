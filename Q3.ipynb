{
  "nbformat": 4,
  "nbformat_minor": 0,
  "metadata": {
    "colab": {
      "provenance": [],
      "collapsed_sections": []
    },
    "kernelspec": {
      "name": "python3",
      "display_name": "Python 3"
    },
    "language_info": {
      "name": "python"
    }
  },
  "cells": [
    {
      "cell_type": "code",
      "execution_count": 3,
      "metadata": {
        "colab": {
          "base_uri": "https://localhost:8080/"
        },
        "id": "h2nxpfPRmkeI",
        "outputId": "5f562dc0-047c-450a-d748-e8bf6d263d09"
      },
      "outputs": [
        {
          "output_type": "execute_result",
          "data": {
            "text/plain": [
              "2"
            ]
          },
          "metadata": {},
          "execution_count": 3
        }
      ],
      "source": [
        "# using python3\n",
        "class Solution:\n",
        "    def findMedianSortedArrays(self, nums1, nums2):\n",
        "      nums1=nums1+nums2\n",
        "      nums1.sort()\n",
        "      l=len(nums1)\n",
        "      if l%2==0:\n",
        "        half=l//2\n",
        "        median=(nums1[half]-nums1[half-1])/2\n",
        "        return median\n",
        "      else:\n",
        "        half=l//2\n",
        "        median=nums1[half]\n",
        "        return median\n",
        "        \n",
        "s=Solution()\n",
        "s.findMedianSortedArrays([1,3],[2])\n",
        "\n"
      ]
    },
    {
      "cell_type": "code",
      "source": [],
      "metadata": {
        "id": "EzQ84Qu1pNVv"
      },
      "execution_count": null,
      "outputs": []
    }
  ]
}