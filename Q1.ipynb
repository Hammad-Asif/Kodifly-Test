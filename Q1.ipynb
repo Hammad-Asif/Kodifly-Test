{
  "nbformat": 4,
  "nbformat_minor": 0,
  "metadata": {
    "colab": {
      "provenance": []
    },
    "kernelspec": {
      "name": "python3",
      "display_name": "Python 3"
    },
    "language_info": {
      "name": "python"
    }
  },
  "cells": [
    {
      "cell_type": "markdown",
      "source": [
        "# Find the sum of the digits in the number 100!\n",
        "n! means n × (n − 1) × ... × 3 × 2 × 1\n",
        "\n",
        "For example, 10! = 10 × 9 × ... × 3 × 2 × 1 = 3628800, and the sum of the digits in the number 10! is 3 + 6 + 2 + 8 + 8 + 0 + 0 = 27.\n"
      ],
      "metadata": {
        "id": "1oZ84WSZ2Blj"
      }
    },
    {
      "cell_type": "code",
      "execution_count": 18,
      "metadata": {
        "colab": {
          "base_uri": "https://localhost:8080/"
        },
        "id": "4E8_V08xzcK6",
        "outputId": "1e35bf41-b803-44b0-d7bc-a5d8cd23ff5e"
      },
      "outputs": [
        {
          "output_type": "stream",
          "name": "stdout",
          "text": [
            "10! = 93326215443944152681699238856266700490715968264381621468592963895217599993229915608941463976156518286253697920827223758251185210916864000000000000000000000000\n",
            "And Sum of these number is 648\n"
          ]
        }
      ],
      "source": [
        "mul=1\n",
        "for i in range(100,1,-1):\n",
        "  mul*=i\n",
        "\n",
        "mul=str(mul)\n",
        "sum=0\n",
        "for i in mul:\n",
        "  sum+=int(i)\n",
        "print(\"10! =\",mul)\n",
        "print(\"And Sum of these number is\", sum)"
      ]
    },
    {
      "cell_type": "code",
      "source": [],
      "metadata": {
        "id": "ypO2EQu-1oFZ"
      },
      "execution_count": null,
      "outputs": []
    }
  ]
}