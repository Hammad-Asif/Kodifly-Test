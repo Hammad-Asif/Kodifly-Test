{
  "nbformat": 4,
  "nbformat_minor": 0,
  "metadata": {
    "colab": {
      "provenance": []
    },
    "kernelspec": {
      "name": "python3",
      "display_name": "Python 3"
    },
    "language_info": {
      "name": "python"
    }
  },
  "cells": [
    {
      "cell_type": "code",
      "execution_count": null,
      "metadata": {
        "id": "P3UtAsJVEiou"
      },
      "outputs": [],
      "source": [
        "# Definition for singly-linked list.\n",
        "class ListNode:\n",
        "    def __init__(self, val=0, next=None):\n",
        "        self.val = val\n",
        "        self.next = next\n",
        "class Solution:\n",
        "  def __init__(self):\n",
        "        self.head = None\n",
        "  def push(self, new_data):\n",
        "    new_node = ListNode(new_data)\n",
        "    new_node.next = self.head\n",
        "    self.head = new_node\n",
        "  \n",
        "  def removeNthFromEnd(self, head: Optional[ListNode], n: int) -> Optional[ListNode]:\n",
        "    first = self.head\n",
        "    second = self.head\n",
        "    for i in range(n):\n",
        "      if(second.next == None):\n",
        "        if(i == n - 1):\n",
        "          self.head = self.head.next\n",
        "          return self.head\n",
        "      second = second.next\n",
        "\t\t\n",
        "    while(second.next != None):\n",
        "      second = second.next\n",
        "      first = first.next\n",
        "      \n",
        "    first.next = first.next.next\n",
        "    return self.head\n",
        "\n"
      ]
    },
    {
      "cell_type": "code",
      "source": [],
      "metadata": {
        "id": "dGG_EKDmEqu_"
      },
      "execution_count": null,
      "outputs": []
    }
  ]
}